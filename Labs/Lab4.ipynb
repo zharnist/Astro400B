{
 "cells": [
  {
   "cell_type": "markdown",
   "metadata": {},
   "source": [
    "# In Class Lab 4"
   ]
  },
  {
   "cell_type": "code",
   "execution_count": 1,
   "metadata": {},
   "outputs": [],
   "source": [
    "# In Class Lab 4\n",
    "# G. Besla \n",
    "\n",
    "# import relevant modules \n",
    "import astropy.units as u\n",
    "import numpy as np\n",
    "from astropy import constants as const # import astropy constants"
   ]
  },
  {
   "cell_type": "markdown",
   "metadata": {},
   "source": [
    "The Large Magellanic Cloud is at a distance of 50 kpc from the Galactic Center. \n",
    "It is observed to have a stellar disk that extends to a radius of at least 18.5 kpc.\n",
    "\n",
    "![LMC](./tidal.png)\n",
    "Deep photometric imaging reveals the faint stellar outskirts of the LMC. \n",
    "Outskirts: DECam data Mackey+2016 MNRAS 459, 239. \n",
    "Inner: shallower imaging from robotic telescopes Besla+2016 APJ 825.\n",
    "\n",
    "In this lab we will determine\n",
    "the minimum mass required for the LMC so that it maintains the observed radius \n",
    "in the face of the Milky Way's tidal field. "
   ]
  },
  {
   "cell_type": "markdown",
   "metadata": {},
   "source": [
    "# Part A\n",
    "\n",
    "We define the mass profile of the Milky Way using a Hernquist profile.\n",
    "\n",
    "\n",
    "$\\rho(r) =  \\frac{M_{halo}}{2\\pi} \\frac{h_a}{r(r+h_a)^3} \\qquad M(r) =  \\frac{M_{halo} r^2}{(h_a+r)^2}$ \n",
    "\n"
   ]
  },
  {
   "cell_type": "markdown",
   "metadata": {},
   "source": [
    "## #1\n",
    "\n",
    "Create a function `hernquist_mass` that returns the dark matter halo mass at a given radius in units of solar mass.\n",
    "This function should take as input:  the distance from the Galactic center $r$, the scale radius $h_a$, and the halo mass $M_{halo}$.\n",
    "\n",
    "\n",
    "For the Hernquist scale radius for the Milky Way, use the default value of $h_a=60$ kpc. \n",
    "\n",
    "For $M_{halo}$ use your answer for the total mass of the simulated Milky Way you computed in Homework 3 as the default value (in units of 1e12). "
   ]
  },
  {
   "cell_type": "code",
   "execution_count": 3,
   "metadata": {},
   "outputs": [],
   "source": [
    "def hernquist_mass(r,h_a=60*u.kpc, m_halo=1.975): # ADD m_halo=??\n",
    "    \"\"\" Function that defines the Hernquist 1990 dark matter mass profile \n",
    "    Inputs:\n",
    "        r: astropy quantity\n",
    "            Galactocentric distance in kpc\n",
    "        a: astropy quantity\n",
    "            scale radius of the Hernquist profile in kpc\n",
    "        m_halo: float\n",
    "            total halo mass in units of 1e12 Msun \n",
    "        \n",
    "    Ouputs:\n",
    "        mass:  astropy quantity\n",
    "            total mass within the input radius r in Msun\n",
    "    \"\"\"\n",
    "    a = m_halo *1e12*u.Msun #constants, correcting units\n",
    "    b = r**2/(h_a + r)**2\n",
    "    mass = a*b #Hernquist profile\n",
    "      \n",
    "    \n",
    "    return mass"
   ]
  },
  {
   "cell_type": "code",
   "execution_count": 4,
   "metadata": {},
   "outputs": [
    {
     "name": "stdout",
     "output_type": "stream",
     "text": [
      "1.97e+12 solMass\n"
     ]
    }
   ],
   "source": [
    "print(f\"{hernquist_mass(1e5*u.kpc):.2e}\")"
   ]
  },
  {
   "cell_type": "code",
   "execution_count": 5,
   "metadata": {},
   "outputs": [
    {
     "name": "stdout",
     "output_type": "stream",
     "text": [
      "1.30e+12 solMass\n"
     ]
    }
   ],
   "source": [
    "print(f\"{hernquist_mass(260*u.kpc):.2e}\")"
   ]
  },
  {
   "cell_type": "code",
   "execution_count": 6,
   "metadata": {},
   "outputs": [
    {
     "name": "stdout",
     "output_type": "stream",
     "text": [
      "4.08e+11 solMass\n"
     ]
    }
   ],
   "source": [
    "print(f\"{hernquist_mass(50*u.kpc):.2e}\")"
   ]
  },
  {
   "cell_type": "markdown",
   "metadata": {},
   "source": [
    "## #2\n",
    "\n",
    "Compute the total mass of the Milky Way within 50 kpc, including its baryonic components (Dark Matter + Bulge + Disk). Use your answers from Homework 3 for the Bulge and Disk Masses. \n",
    "Store this as a variable called `mass_MW50`.\n"
   ]
  },
  {
   "cell_type": "code",
   "execution_count": 8,
   "metadata": {},
   "outputs": [],
   "source": [
    "#Disk mass\n",
    "mdisk = .075e12*u.Msun\n",
    "\n",
    "#Bulge Mass\n",
    "mbulge = .01e12*u.Msun\n"
   ]
  },
  {
   "cell_type": "code",
   "execution_count": 9,
   "metadata": {},
   "outputs": [
    {
     "name": "stdout",
     "output_type": "stream",
     "text": [
      "4.93e+11 solMass\n"
     ]
    }
   ],
   "source": [
    "#Total mass of MW within 50kpc\n",
    "mass_MW50 = mdisk + mbulge +hernquist_mass(50*u.kpc)\n",
    "print(f\"{mass_MW50:.2e}\")"
   ]
  },
  {
   "cell_type": "markdown",
   "metadata": {},
   "source": [
    "# Part B\n",
    "\n",
    "The Jacobi Radius for a satellite on a circular orbit about an extended host, where \n",
    "the host is assumed to be well modeled as an isothermal sphere halo:\n",
    "\n",
    "\n",
    "$R_j = r  \\bigg( \\frac{M_{sat}}{2 M_{host}(<r)} \\bigg)^{1/3}$\n",
    "\n",
    "\n",
    "The Isothermal Sphere approximation is not a bad one within 50 kpc.\n",
    "\n",
    "Note also that the LMC is not on a circular orbit, but it is very close to its pericentric approach, where the velocity is all in the tangential component. So this isn't a terrible approximation either. \n",
    "\n",
    "## #1\n",
    "Create a function called `jacobi_mass` that returns the total mass of a satellite galaxy in units of Msun, \n",
    "such that it has a given size \n",
    "\n",
    "Do this by rearranging the Jacobi Radius equation to solve for the satellite mass. \n"
   ]
  },
  {
   "cell_type": "code",
   "execution_count": 23,
   "metadata": {},
   "outputs": [],
   "source": [
    "# Rj = r*(Msat/2/Mmw)**(1/3)\n",
    "# (Rj/r)**3 = Msat/2/Mmw\n",
    "#Msat = 2*Mmw*(Rj/r)**3\n",
    "\n",
    "\n",
    "def jacobi_mass(rj,r,m_host):\n",
    "    \"\"\" Function that determines the minimum satellite\n",
    "    mass needed to maintain a the size of a given \n",
    "    satellite using the Jacobi Radius\n",
    "    \n",
    "    Inputs:\n",
    "        rj : astropy quantity\n",
    "            Jacobi Radius or the stellar radius of the \n",
    "            satellite in kpc\n",
    "        r : astropy quantity \n",
    "            Distance of the satellite from the host in kpc\n",
    "        m_host: astropy quantity \n",
    "            Mass of the host galaxy in Msun within r in Msun\n",
    "        \n",
    "    Outputs:\n",
    "        m_min: astropy quantity\n",
    "            Minimum satellite mass in Msun\n",
    "    \"\"\"\n",
    "\n",
    "    a = 2*m_host #constants\n",
    "    b = (rj/r)**3\n",
    "\n",
    "    \n",
    "    m_min = a*b #min satellite mass\n",
    "    \n",
    "    return m_min\n",
    "    "
   ]
  },
  {
   "cell_type": "markdown",
   "metadata": {},
   "source": [
    "## #2 \n",
    "\n",
    "Determine the minimum total mass of the LMC needed to maintain its radius of 18.5 kpc in the face of the Milky Way's tidal \n",
    "field at its current distance of 50 kpc. Store this as a variable called `LMC_jacobiM`."
   ]
  },
  {
   "cell_type": "code",
   "execution_count": 24,
   "metadata": {},
   "outputs": [],
   "source": [
    "sizeL = 18.5*u.kpc #observed size of LMC\n",
    "#Mackey+2016\n",
    "\n",
    "distL = 50.0*u.kpc #galactocentric distance to the LMC"
   ]
  },
  {
   "cell_type": "code",
   "execution_count": 25,
   "metadata": {},
   "outputs": [
    {
     "name": "stdout",
     "output_type": "stream",
     "text": [
      "4.99e+10 solMass\n"
     ]
    }
   ],
   "source": [
    "#Minimum mass of the LMC needed to maintain a size of a 18.5 kpc\n",
    "\n",
    "LMC_jacobiM = jacobi_mass(sizeL, distL, mass_MW50)\n",
    "print(f\"{LMC_jacobiM:.2e}\")"
   ]
  },
  {
   "cell_type": "markdown",
   "metadata": {},
   "source": [
    "Recall that, ignoring centrifugal forces and assuming the host is a point mass, the tidal radius is given as :\n",
    "\n",
    "$r_{tide} = r\\left (\\frac{m_{sat}}{4M_{host} } \\right)^{1/3} $\n",
    "\n",
    "Since we have a factor of 4 in the denominator instead of 2, the required LMC mass to maintain a radius of 18.5 kpc would be a factor of 2 larger under the point mass assumption."
   ]
  },
  {
   "cell_type": "markdown",
   "metadata": {},
   "source": [
    "## #3\n",
    "\n",
    "How does the total mass of the LMC compare to its stellar mass (M$_\\ast = 3 \\times 10^9$ M$_\\odot$)? \n"
   ]
  },
  {
   "cell_type": "code",
   "execution_count": 26,
   "metadata": {},
   "outputs": [],
   "source": [
    "LMC_mstar = 3e9*u.Msun"
   ]
  },
  {
   "cell_type": "code",
   "execution_count": 27,
   "metadata": {},
   "outputs": [
    {
     "name": "stdout",
     "output_type": "stream",
     "text": [
      "17.0\n"
     ]
    }
   ],
   "source": [
    "print(np.round(LMC_jacobiM/LMC_mstar))"
   ]
  },
  {
   "cell_type": "code",
   "execution_count": null,
   "metadata": {},
   "outputs": [],
   "source": []
  }
 ],
 "metadata": {
  "kernelspec": {
   "display_name": "Python 3 (ipykernel)",
   "language": "python",
   "name": "python3"
  },
  "language_info": {
   "codemirror_mode": {
    "name": "ipython",
    "version": 3
   },
   "file_extension": ".py",
   "mimetype": "text/x-python",
   "name": "python",
   "nbconvert_exporter": "python",
   "pygments_lexer": "ipython3",
   "version": "3.12.7"
  }
 },
 "nbformat": 4,
 "nbformat_minor": 4
}
