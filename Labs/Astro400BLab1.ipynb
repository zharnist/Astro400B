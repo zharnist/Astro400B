{
 "cells": [
  {
   "cell_type": "markdown",
   "metadata": {},
   "source": [
    "# In Class Lab 1\n",
    "\n",
    "### Due by midnight, thursday in your github repository 'Labs/Lab1' folder\n"
   ]
  },
  {
   "cell_type": "code",
   "execution_count": 10,
   "metadata": {},
   "outputs": [],
   "source": [
    "# Import Modules \n",
    "import numpy as np # import numpy\n",
    "import astropy.units as u # import astropy units\n",
    "from astropy import constants as const # import astropy constants"
   ]
  },
  {
   "cell_type": "markdown",
   "metadata": {},
   "source": [
    "### Astropy Units:  https://docs.astropy.org/en/stable/units/index.html"
   ]
  },
  {
   "cell_type": "markdown",
   "metadata": {},
   "source": [
    "\n",
    "## Part A:  The Local Standard of Rest\n",
    "Proper motion of Sgr A* from Reid & Brunthaler 2004\n",
    "$\\mu = 6.379$ mas/yr \n",
    "\n",
    "Peculiar motion of the sun, $v_\\odot$ = 12.24 km/s  (Schonrich 2010)\n",
    "\n",
    "\n",
    "$v_{tan} = 4.74 \\frac{\\mu}{\\rm mas/yr} \\frac{R_o}{\\rm kpc} = V_{LSR} + v_\\odot$\n",
    "\n",
    "\n",
    "### a)\n",
    "\n",
    "Create a function called VLSR to compute the local standard of res (V$_{LSR}$).\n",
    "\n",
    "The function should take as input: the solar radius (R$_o$), the proper motion (mu)\n",
    "and the peculiar motion of the sun in the $v_\\odot$ direction.\n",
    "\n",
    "Compute V$_{LSR}$ using three different values R$_o$: \n",
    "1. Water Maser Distance for the Sun :  R$_o$ = 8.34 kpc   (Reid 2014 ApJ 783) \n",
    "2. GRAVITY Collaboration Distance for the Sun:  R$_o$ = 8.178 kpc   (Abuter+2019 A&A 625)\n",
    "3. Value for Distance to Sun listed in Sparke & Gallagher : R$_o$ = 7.9 kpc \n"
   ]
  },
  {
   "cell_type": "code",
   "execution_count": 11,
   "metadata": {},
   "outputs": [],
   "source": [
    "#4.74*mu*Ro = VLSR + vsun\n",
    "def VLSR(Ro, mu=6.379, vsun=12.24*u.km/u.s):\n",
    "    \"\"\"This function will compute the velocity at the local standard of rest\n",
    "        VLSR = 4.74*mu+Ro - vsun\n",
    "        Imputs: Ro (astropy units kpc) Distance from the sun to the galactic center\n",
    "                mu is the proper motion of Sag A star (mas/year)\n",
    "                vsun (astropy units km/s) the peculiar motion of tyhe sun in the v direction\n",
    "        Outputs: VLSR (astropy units km/s) The local standard rest\n",
    "    \"\"\"\n",
    "    vlsr = 4.74*mu*(Ro/u.kpc)*u.km/u.s - vsun\n",
    "    return vlsr\n",
    "    \n"
   ]
  },
  {
   "cell_type": "code",
   "execution_count": 12,
   "metadata": {},
   "outputs": [],
   "source": [
    "RoReid = 8.34*u.kpc #Reid + 2014\n",
    "RoAbuter = 8.178*u.kpc #Gravity Abuter+2019\n",
    "RoSparke = 7.9*u.kpc #Spark and Gallagher Text"
   ]
  },
  {
   "cell_type": "code",
   "execution_count": 13,
   "metadata": {},
   "outputs": [
    {
     "name": "stdout",
     "output_type": "stream",
     "text": [
      "239.9320764 km / s\n"
     ]
    }
   ],
   "source": [
    "#Compute VLSR using Reid 2014\n",
    "VLSR_Reid = VLSR(RoReid)\n",
    "print(VLSR_Reid)"
   ]
  },
  {
   "cell_type": "code",
   "execution_count": 16,
   "metadata": {},
   "outputs": [
    {
     "name": "stdout",
     "output_type": "stream",
     "text": [
      "226.628034 km / s\n"
     ]
    }
   ],
   "source": [
    "#Compute VLSR from Sparke and Gallagher\n",
    "VLSR_Sparke = VLSR(RoSparke)\n",
    "print(VLSR_Sparke)"
   ]
  },
  {
   "cell_type": "code",
   "execution_count": 17,
   "metadata": {},
   "outputs": [
    {
     "name": "stdout",
     "output_type": "stream",
     "text": [
      "235.03376988000002 km / s\n",
      "235.0 km / s\n"
     ]
    }
   ],
   "source": [
    "#Compute VLSR using gravity collaborator\n",
    "\n",
    "VLSR_Abuter = VLSR(RoAbuter)\n",
    "print(VLSR_Abuter)\n",
    "print(np.round(VLSR_Abuter))"
   ]
  },
  {
   "cell_type": "markdown",
   "metadata": {},
   "source": [
    "### b)\n",
    "\n",
    "compute the orbital period of the sun in Gyr using R$_o$ from the GRAVITY Collaboration (assume circular orbit)\n",
    "\n",
    "Note that 1 km/s $\\sim$ 1kpc/Gyr"
   ]
  },
  {
   "cell_type": "code",
   "execution_count": 27,
   "metadata": {},
   "outputs": [],
   "source": [
    "#Orbital period = 2piR/V\n",
    "\n",
    "def TorbSun(Ro, Vc):\n",
    "    \"\"\" Function that computes the Orbital Period\n",
    "    T = 2pi R / V\n",
    "    Inputes: Ro (astropy quantity) distance to the galactic center from the sun (kpc)\n",
    "            Vc (astropy quantity) velocity of the sun in the \"v\" direction (km / s)\n",
    "    Outputs: T(astropy quantity) Orbital Period (Gyr)\n",
    "    \"\"\"\n",
    "    VkpcGyr = Vc.to(u.kpc/u.Gyr) #Converting V to kpc to Gyr\n",
    "    T= 2*np.pi*Ro/VkpcGyr #Orbital period\n",
    "    return T"
   ]
  },
  {
   "cell_type": "code",
   "execution_count": 28,
   "metadata": {},
   "outputs": [],
   "source": [
    "VsunPec = 12.24*u.km/u.s #peculiar motion"
   ]
  },
  {
   "cell_type": "code",
   "execution_count": 29,
   "metadata": {},
   "outputs": [],
   "source": [
    "Vsun = VLSR_Abuter + VsunPec #Total motion of the sun in \"v\" direction"
   ]
  },
  {
   "cell_type": "code",
   "execution_count": 33,
   "metadata": {},
   "outputs": [
    {
     "name": "stdout",
     "output_type": "stream",
     "text": [
      "0.20318680562272234 Gyr\n",
      "0.203 Gyr\n"
     ]
    }
   ],
   "source": [
    "#Orbital period of the sun\n",
    "T_Abuter = TorbSun(RoAbuter, Vsun)\n",
    "print(T_Abuter)\n",
    "print(np.round(T_Abuter,3))"
   ]
  },
  {
   "cell_type": "markdown",
   "metadata": {},
   "source": [
    "### c)\n",
    "\n",
    "Compute the number of rotations about the GC over the age of the universe (13.8 Gyr)"
   ]
  },
  {
   "cell_type": "code",
   "execution_count": 36,
   "metadata": {},
   "outputs": [
    {
     "name": "stdout",
     "output_type": "stream",
     "text": [
      "67.91779593023313\n"
     ]
    }
   ],
   "source": [
    "AgeUniverse = 13.8*u.Gyr\n",
    "print(AgeUniverse/T_Abuter)"
   ]
  },
  {
   "cell_type": "markdown",
   "metadata": {},
   "source": [
    "## Part B  Dark Matter Density Profiles\n",
    "\n",
    "### a)\n",
    "Try out Fitting Rotation Curves \n",
    "[here](http://wittman.physics.ucdavis.edu/Animations/RotationCurve/GalacticRotation.html)\n",
    "\n",
    "\n",
    "### b)\n",
    "\n",
    "\n",
    "In the Isothermal Sphere model, what is the mass enclosed within the solar radius (R$_o$) in units of M$_\\odot$? \n",
    "\n",
    "Recall that for the Isothermal sphere :\n",
    "$\\rho(r) = \\frac{V_{LSR}^2}{4\\pi G r^2}$\n",
    "\n",
    "Where $G$ = 4.4985e-6 kpc$^3$/Gyr$^2$/M$_\\odot$, r is in kpc and $V_{LSR}$ is in km/s\n",
    "\n",
    "What about at 260 kpc (in units of  M$_\\odot$) ? "
   ]
  },
  {
   "cell_type": "code",
   "execution_count": 38,
   "metadata": {},
   "outputs": [
    {
     "name": "stdout",
     "output_type": "stream",
     "text": [
      "  Name   = Gravitational constant\n",
      "  Value  = 6.6743e-11\n",
      "  Uncertainty  = 1.5e-15\n",
      "  Unit  = m3 / (kg s2)\n",
      "  Reference = CODATA 2018\n"
     ]
    }
   ],
   "source": [
    "print(const.G)"
   ]
  },
  {
   "cell_type": "code",
   "execution_count": 40,
   "metadata": {},
   "outputs": [
    {
     "name": "stdout",
     "output_type": "stream",
     "text": [
      "4.498502151469554e-06 kpc3 / (solMass Gyr2)\n"
     ]
    }
   ],
   "source": [
    "Grav = const.G.to(u.kpc**3/u.Gyr**2/u.Msun)\n",
    "print(Grav)"
   ]
  },
  {
   "cell_type": "code",
   "execution_count": 42,
   "metadata": {},
   "outputs": [],
   "source": [
    "#Density profile rho = VLSR^2/(4pi *G *R^2)\n",
    "#Mass (r) = Integrate rho dV\n",
    "#          Integrate rho 4pi*r^2*dr\n",
    "#           Integrate VLSR^2 / (pi*G*r^2)*4pi*r^2 dr\n",
    "# .          VLSR^2/G *r\n",
    "\n",
    "def massIso(r, VLSR):\n",
    "    ''' This function will compute the dark matter mass enclosed\n",
    "    within a given distance r, assuming an isothermal sphere model\n",
    "    M(r) = VLSR^2/G *r\n",
    "\n",
    "    Inputs:\n",
    "        r (astropy quantity) distance from galactic center (kpc)\n",
    "        VLSR (astropy quantity) the velocity at the local standard of rest\n",
    "        in (km/s)\n",
    "    Outputs:\n",
    "        M (astropy quantity) mass enclosed within r (Msun)\n",
    "    '''\n",
    "\n",
    "    VLSRkpcGyr = VLSR.to(u.kpc/u.Gyr) #translates to kpc/Gyr\n",
    "    M = VLSRkpcGyr**2/Grav*r #Isothermal sphere mass profile\n",
    "    return M"
   ]
  },
  {
   "cell_type": "code",
   "execution_count": 44,
   "metadata": {},
   "outputs": [
    {
     "name": "stdout",
     "output_type": "stream",
     "text": [
      "105038025820.79904 solMass\n",
      "1.05e+11 solMass\n"
     ]
    }
   ],
   "source": [
    "#compute the mass enclosed within Ro (Gravity Collab)\n",
    "mIsoSolar = massIso(RoAbuter, VLSR_Abuter)\n",
    "print(mIsoSolar)\n",
    "print(f\"{mIsoSolar:.2e}\")"
   ]
  },
  {
   "cell_type": "code",
   "execution_count": 47,
   "metadata": {},
   "outputs": [
    {
     "name": "stdout",
     "output_type": "stream",
     "text": [
      "3.34e+12 solMass\n"
     ]
    }
   ],
   "source": [
    "#compute the mass enclosed at 260 kpc\n",
    "mIso260 = massIso(260*u.kpc, VLSR_Abuter)\n",
    "print(f\"{mIso260:.2e}\")"
   ]
  },
  {
   "cell_type": "markdown",
   "metadata": {},
   "source": [
    "## c) \n",
    "\n",
    "The Leo I satellite is one of the fastest moving satellite galaxies we know. \n",
    "\n",
    "\n",
    "It is moving with 3D velocity of magnitude: Vtot = 196 km/s at a distance of 260 kpc (Sohn 2013 ApJ 768)\n",
    "\n",
    "If we assume that Leo I is moving at the escape speed:\n",
    "\n",
    "$v_{esc}^2 = 2|\\Phi| = 2 \\int G \\frac{\\rho(r)}{r}dV $ \n",
    "\n",
    "and assuming the Milky Way is well modeled by a Hernquist Sphere with a scale radius of $a$= 30 kpc, what is the minimum mass of the Milky Way (in units of M$_\\odot$) ?  \n",
    "\n",
    "How does this compare to estimates of the mass assuming the Isothermal Sphere model at 260 kpc (from your answer above)"
   ]
  },
  {
   "cell_type": "code",
   "execution_count": 57,
   "metadata": {},
   "outputs": [],
   "source": [
    "#potential for a Hernquist shpere\n",
    "#. Phi = -G*M/ (r+a)\n",
    "\n",
    "# Escape speed becomes:\n",
    "# vesc^2 = 2*G*M/(r+a)\n",
    "#M = vesc**2/2/G*(r+a)\n",
    "def massHernVesc(vesc, r, a=30*u.kpc):\n",
    "    \"\"\"\n",
    "    This function determiens the total dark matter needed given an escape speed, assuming a Hernquist profile\n",
    "        M = vesc^2/2/G*(r+a)\n",
    "\n",
    "    Inputs:\n",
    "        vesc (astropy quantity) escape speed (or speed of satellite) (km/s)\n",
    "        r: (astropy quantity) distance from the galactic center (kpc)\n",
    "        a: (astropy quantity) the hernquist scale length (kpc)\n",
    "            default value of 30kpc\n",
    "    Outputs:\n",
    "        M (astropy quantity) mass within r (Msun)\n",
    "    \"\"\"\n",
    "    vescKpcGyr = vesc.to(u.kpc/u.Gyr) #translates to kpc/Gyr\n",
    "    M = vescKpcGyr**2/2/G*(r+a)\n",
    "    return M"
   ]
  },
  {
   "cell_type": "code",
   "execution_count": 58,
   "metadata": {},
   "outputs": [],
   "source": [
    "Vleo = 196*u.km/u.s #speed of leo I Sohn et al.\n",
    "r = 260*u.kpc"
   ]
  },
  {
   "cell_type": "code",
   "execution_count": 59,
   "metadata": {},
   "outputs": [
    {
     "ename": "NameError",
     "evalue": "name 'G' is not defined",
     "output_type": "error",
     "traceback": [
      "\u001b[1;31m---------------------------------------------------------------------------\u001b[0m",
      "\u001b[1;31mNameError\u001b[0m                                 Traceback (most recent call last)",
      "Cell \u001b[1;32mIn[59], line 1\u001b[0m\n\u001b[1;32m----> 1\u001b[0m MLeoI \u001b[38;5;241m=\u001b[39m massHernVesc(Vleo, r)\n\u001b[0;32m      2\u001b[0m \u001b[38;5;28mprint\u001b[39m(\u001b[38;5;124mf\u001b[39m\u001b[38;5;124m\"\u001b[39m\u001b[38;5;132;01m{\u001b[39;00mMLeoI\u001b[38;5;132;01m:\u001b[39;00m\u001b[38;5;124m.2e\u001b[39m\u001b[38;5;132;01m}\u001b[39;00m\u001b[38;5;124m\"\u001b[39m)\n",
      "Cell \u001b[1;32mIn[57], line 21\u001b[0m, in \u001b[0;36mmassHernVesc\u001b[1;34m(vesc, r, a)\u001b[0m\n\u001b[0;32m      8\u001b[0m \u001b[38;5;250m\u001b[39m\u001b[38;5;124;03m\"\"\"\u001b[39;00m\n\u001b[0;32m      9\u001b[0m \u001b[38;5;124;03mThis function determiens the total dark matter needed given an escape speed, assuming a Hernquist profile\u001b[39;00m\n\u001b[0;32m     10\u001b[0m \u001b[38;5;124;03m    M = vesc^2/2/G*(r+a)\u001b[39;00m\n\u001b[1;32m   (...)\u001b[0m\n\u001b[0;32m     18\u001b[0m \u001b[38;5;124;03m    M (astropy quantity) mass within r (Msun)\u001b[39;00m\n\u001b[0;32m     19\u001b[0m \u001b[38;5;124;03m\"\"\"\u001b[39;00m\n\u001b[0;32m     20\u001b[0m vescKpcGyr \u001b[38;5;241m=\u001b[39m vesc\u001b[38;5;241m.\u001b[39mto(u\u001b[38;5;241m.\u001b[39mkpc\u001b[38;5;241m/\u001b[39mu\u001b[38;5;241m.\u001b[39mGyr) \u001b[38;5;66;03m#translates to kpc/Gyr\u001b[39;00m\n\u001b[1;32m---> 21\u001b[0m M \u001b[38;5;241m=\u001b[39m vescKpcGyr\u001b[38;5;241m*\u001b[39m\u001b[38;5;241m*\u001b[39m\u001b[38;5;241m2\u001b[39m\u001b[38;5;241m/\u001b[39m\u001b[38;5;241m2\u001b[39m\u001b[38;5;241m/\u001b[39mG\u001b[38;5;241m*\u001b[39m(r\u001b[38;5;241m+\u001b[39ma)\n\u001b[0;32m     22\u001b[0m \u001b[38;5;28;01mreturn\u001b[39;00m M\n",
      "\u001b[1;31mNameError\u001b[0m: name 'G' is not defined"
     ]
    }
   ],
   "source": [
    "MLeoI = massHernVesc(Vleo, r)\n",
    "print(f\"{MLeoI:.2e}\")"
   ]
  },
  {
   "cell_type": "code",
   "execution_count": null,
   "metadata": {},
   "outputs": [],
   "source": [
    "mIso260/MLeoI"
   ]
  }
 ],
 "metadata": {
  "kernelspec": {
   "display_name": "Python 3 (ipykernel)",
   "language": "python",
   "name": "python3"
  },
  "language_info": {
   "codemirror_mode": {
    "name": "ipython",
    "version": 3
   },
   "file_extension": ".py",
   "mimetype": "text/x-python",
   "name": "python",
   "nbconvert_exporter": "python",
   "pygments_lexer": "ipython3",
   "version": "3.12.7"
  }
 },
 "nbformat": 4,
 "nbformat_minor": 4
}
